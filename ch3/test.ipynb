{
 "cells": [
  {
   "metadata": {
    "ExecuteTime": {
     "end_time": "2025-09-01T07:18:35.797592Z",
     "start_time": "2025-09-01T07:18:35.785574Z"
    }
   },
   "cell_type": "code",
   "source": [
    "#매개변수에 리스트를 받을 경우,\n",
    "# 매개변수에, 리스트를 받을 경우,\n",
    "def spam(eggs):\n",
    "    print(f\"eggs의 id(메모리위치주솟값 정수로표현) : {id(eggs)}\")\n",
    "    eggs.append(1)\n",
    "    print(f\"eggs.append(1) 후, eggs의 id2(메모리위치주솟값 정수로표현) : {id(eggs)}\")\n",
    "\n",
    "    eggs = [2,3] # 새로운 객체를 재할당!!!, 중요.\n",
    "    print(f\"eggs = [2,3] 후, eggs의 id3(메모리위치주솟값 정수로표현) :{id(eggs)}\")\n",
    "\n",
    "#함수 사용.\n",
    "ham = [0] # 요소가 0인 리스트 준비\n",
    "print(f\"spam(ham)호출 하기 전의 ham의 id(메모리위치주솟값 정수로표현) : {id(ham)}\")\n",
    "spam(ham)\n",
    "print(f\"spam(ham)호출 하기 후의 ham의 id(메모리위치주솟값 정수로표현) : {id(ham)}\")"
   ],
   "id": "ef38e6a1a6031d04",
   "outputs": [
    {
     "name": "stdout",
     "output_type": "stream",
     "text": [
      "spam(ham)호출 하기 전의 ham의 id(메모리위치주솟값 정수로표현) : 2446109007360\n",
      "eggs의 id(메모리위치주솟값 정수로표현) : 2446109007360\n",
      "eggs.append(1) 후, eggs의 id2(메모리위치주솟값 정수로표현) : 2446109007360\n",
      "eggs = [2,3] 후, eggs의 id3(메모리위치주솟값 정수로표현) :2446108939392\n",
      "spam(ham)호출 하기 후의 ham의 id(메모리위치주솟값 정수로표현) : 2446109007360\n"
     ]
    }
   ],
   "execution_count": 6
  },
  {
   "metadata": {
    "ExecuteTime": {
     "end_time": "2025-09-01T07:58:20.782708Z",
     "start_time": "2025-09-01T07:58:20.777605Z"
    }
   },
   "cell_type": "code",
   "source": [
    "def f():\n",
    "    global s # 키워드 global , 전역으로 변경.\n",
    "    s = \"lsy\" # 원래는 지역 변수\n",
    "    print(s)\n",
    "s = \"abc\"\n",
    "f()\n",
    "print(s)"
   ],
   "id": "3686c0a4bdaba1d1",
   "outputs": [
    {
     "name": "stdout",
     "output_type": "stream",
     "text": [
      "lsy\n",
      "lsy\n"
     ]
    }
   ],
   "execution_count": 8
  }
 ],
 "metadata": {
  "kernelspec": {
   "name": "python3",
   "language": "python",
   "display_name": "Python 3 (ipykernel)"
  }
 },
 "nbformat": 4,
 "nbformat_minor": 5
}
