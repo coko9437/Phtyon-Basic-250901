{
 "cells": [
  {
   "metadata": {},
   "cell_type": "markdown",
   "source": [
    "\n",
    "# 도서 관리 시스템 (상속 및 다형성 활용)\n",
    "```\n",
    "도서 Book , 전자책 EBook, 종이책 PaperBook 클래스를 구현하고,\n",
    "display_info() 메서드를 다형성을 적용하여 다르게 동작하도록 만드세요.\n",
    "--\n",
    "```\n",
    "참고,\n",
    "(def   init  (self, title, author):,\n",
    "# 객체 생성, # 정보 출력\n",
    "(결과물 , 콘솔 출력)\n"
   ],
   "id": "379e770c08e0b6e3"
  }
 ],
 "metadata": {
  "kernelspec": {
   "display_name": "Python 3",
   "language": "python",
   "name": "python3"
  },
  "language_info": {
   "codemirror_mode": {
    "name": "ipython",
    "version": 2
   },
   "file_extension": ".py",
   "mimetype": "text/x-python",
   "name": "python",
   "nbconvert_exporter": "python",
   "pygments_lexer": "ipython2",
   "version": "2.7.6"
  }
 },
 "nbformat": 4,
 "nbformat_minor": 5
}
