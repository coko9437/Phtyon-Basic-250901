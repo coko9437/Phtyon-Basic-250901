{
 "cells": [
  {
   "metadata": {},
   "cell_type": "markdown",
   "source": [
    "# 주식 데이터(삼성전자, 카카오, 네이버) 를 활용하여 주가 변동을 시각화.\n",
    "\n",
    "# Numpy, Matplotlib, Pandas를 활용하여 다음을 분석합니다\n",
    "--\n",
    "```\n",
    "1) 주가 변동 라인 그래프\n",
    "삼성전자, 카카오, 네이버의 주가 변동을 하나의 그래프로 시각화\n",
    "\n",
    "2) 이동 평균선 추가\n",
    "단기(20일) 및 장기(60일) 이동 평균선을 추가하여 주가 추세를 분석\n",
    "\n",
    "3) 히트맵을 통한 상관관계 분석\n",
    "삼성전자, 카카오, 네이버의 주가 상관관계를 히트맵으로 표현\n",
    "- 주식 데이터 수집 및 처리\n",
    "삼성전자(005930), 카카오(035720), 네이버(035420)의 주가 데이터를 가져오기.\n",
    "- 데이터 전처리\n",
    "수집한 데이터에서 종가(close) 정보를 추출하고, 이를 하나의 데이터프레임으로 결과\n",
    "\n",
    "- 주가 변동 시각화\n",
    "각 기업의 주가 변동을 라인 그래프로 시각화\n",
    "\n",
    "- 이동 평균선 추가\n",
    "주가의 단기 및 장기 추세를 파악하기 위해 20일 및 60일 이동 평균선을 계산하고 시각화\n",
    "\n",
    "- 종목 간 상관관계 분석\n",
    "각 종목 간 주가의 상관관계를 히트맵으로 시각화\n",
    "```"
   ],
   "id": "318b9cfc3ed712fd"
  }
 ],
 "metadata": {
  "kernelspec": {
   "display_name": "Python 3",
   "language": "python",
   "name": "python3"
  },
  "language_info": {
   "codemirror_mode": {
    "name": "ipython",
    "version": 2
   },
   "file_extension": ".py",
   "mimetype": "text/x-python",
   "name": "python",
   "nbconvert_exporter": "python",
   "pygments_lexer": "ipython2",
   "version": "2.7.6"
  }
 },
 "nbformat": 4,
 "nbformat_minor": 5
}
