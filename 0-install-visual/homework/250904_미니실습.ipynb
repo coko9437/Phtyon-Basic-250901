{
 "cells": [
  {
   "metadata": {},
   "cell_type": "markdown",
   "source": [
    "**문제 1: 배열 생성 및 변형**\n",
    "1부터 25까지의 숫자를 포함하는 1차원 배열을 만든 후, 이 배열을 5x5 크기의 2차원 배열로 변형하세요.\n"
   ],
   "id": "904a665e89b41c43"
  },
  {
   "metadata": {
    "ExecuteTime": {
     "end_time": "2025-09-04T05:10:06.306578Z",
     "start_time": "2025-09-04T05:10:06.299400Z"
    }
   },
   "cell_type": "code",
   "source": [
    "import numpy as np\n",
    "from numpy import broadcast\n",
    "from numpy.ma.core import reshape\n",
    "\n",
    "M1 = np.arange(1,26)\n",
    "print(f\"원본 배열 :\\n{M1}\\n\")\n",
    "\n",
    "M1_1 = M1.reshape(5,5)\n",
    "print(f\"5 x 5 배열 : \\n{M1_1}\")\n",
    "\n",
    "\n",
    "\n"
   ],
   "id": "320b70a80a595be2",
   "outputs": [
    {
     "name": "stdout",
     "output_type": "stream",
     "text": [
      "원본 배열 :\n",
      "[ 1  2  3  4  5  6  7  8  9 10 11 12 13 14 15 16 17 18 19 20 21 22 23 24\n",
      " 25]\n",
      "\n",
      "5 x 5 배열 : \n",
      "[[ 1  2  3  4  5]\n",
      " [ 6  7  8  9 10]\n",
      " [11 12 13 14 15]\n",
      " [16 17 18 19 20]\n",
      " [21 22 23 24 25]]\n"
     ]
    }
   ],
   "execution_count": 20
  },
  {
   "metadata": {},
   "cell_type": "markdown",
   "source": [
    "**문제 2: 배열 슬라이싱**\n",
    "위 1번 문제에서 생성한 5x5 배열에서, 아래 그림과 같이 안쪽에 위치한 3x3 배열(값 7부터 19까지)을 슬라이싱하여 추출하세요."
   ],
   "id": "d4f6f3a449b3e027"
  },
  {
   "metadata": {
    "ExecuteTime": {
     "end_time": "2025-09-04T05:09:57.961913Z",
     "start_time": "2025-09-04T05:09:57.951187Z"
    }
   },
   "cell_type": "code",
   "source": [
    "print(f\"5x5 배열 M1_1 : \\n{M1_1}\\n\")\n",
    "M2 = M1_1[1:4, 1:4]\n",
    "print(f\"M2 : \\n{M2}\")\n",
    "# 첫 번째 1:4는 행을, 두 번째 1:4는 열을 지정"
   ],
   "id": "7090d2a5a05bb47d",
   "outputs": [
    {
     "name": "stdout",
     "output_type": "stream",
     "text": [
      "5x5 배열 M1_1 : \n",
      "[[ 1  2  3  4  5]\n",
      " [ 6  7  8  9 10]\n",
      " [11 12 13 14 15]\n",
      " [16 17 18 19 20]\n",
      " [21 22 23 24 25]]\n",
      "\n",
      "M2 : \n",
      "[[ 7  8  9]\n",
      " [12 13 14]\n",
      " [17 18 19]]\n"
     ]
    }
   ],
   "execution_count": 19
  },
  {
   "metadata": {},
   "cell_type": "markdown",
   "source": [
    "**문제 3: 브로드캐스팅 활용 연산**\n",
    "2x3 크기의 배열 `A = np.array([[5, 10, 15], [20, 25, 30]])`가 있습니다. 이 배열의 첫 번째 행에는 100을, 두 번째 행에는 200을 더하세요. 브로드캐스팅을 활용하여 한 줄의 코드로 해결해 보세요.\n",
    "(힌트: `[[100], [200]]` 형태의 배열을 더해야 합니다.)"
   ],
   "id": "47fb4c5933fdec8c"
  },
  {
   "metadata": {
    "ExecuteTime": {
     "end_time": "2025-09-04T05:20:07.899643Z",
     "start_time": "2025-09-04T05:20:07.891932Z"
    }
   },
   "cell_type": "code",
   "source": [
    "A = np.array([[5, 10, 15], [20, 25, 30]])\n",
    "print(f\"A : \\n{A}\")\n",
    "add = np.array([[100], [200]])\n",
    "print(f\"A : \\n{add}\")\n",
    "#  넘파이는 이 배열을 다음과 같이 확장하여 A 배열의 각 행에 맞춰줍니다.\n",
    "# add =\n",
    "#       [[100, 100, 100],\n",
    "#       [200, 200, 200]]\n",
    "sum = np.add(A, add)\n",
    "print(f\"A : \\n{sum}\")\n"
   ],
   "id": "85cebcadc5a4c68f",
   "outputs": [
    {
     "name": "stdout",
     "output_type": "stream",
     "text": [
      "A : \n",
      "[[ 5 10 15]\n",
      " [20 25 30]]\n",
      "A : \n",
      "[[100]\n",
      " [200]]\n",
      "A : \n",
      "[[105 110 115]\n",
      " [220 225 230]]\n"
     ]
    }
   ],
   "execution_count": 23
  },
  {
   "metadata": {},
   "cell_type": "markdown",
   "source": [
    "**문제 4: 불리언 인덱싱 (필터링)**\n",
    "0부터 15까지의 숫자를 가진 4x4 배열을 만드세요. 이 배열에서 3의 배수만 모두 추출하여 1차원 배열로 만드세요."
   ],
   "id": "f6ce04b428894bf0"
  },
  {
   "metadata": {
    "ExecuteTime": {
     "end_time": "2025-09-04T05:31:15.452013Z",
     "start_time": "2025-09-04T05:31:15.441536Z"
    }
   },
   "cell_type": "code",
   "source": [
    "M4 = np.arange(0, 16)\n",
    "print(f\"M4 : \\n{M4}\\n\")\n",
    "M4_1 = M4.reshape(4, 4)\n",
    "print(f\"M4_1 : \\n{M4_1}\\n\")\n",
    "\n",
    "M4_2 = M4_1[M4_1 % 3 == 0]\n",
    "# # M4_1 % 3 == 0은 3으로 나눈 나머지가 0인 요소(3의 배수)를 True로\n",
    "print(f\"M4_2 : \\n{M4_2}\\n\")"
   ],
   "id": "b8dbb5844d02c890",
   "outputs": [
    {
     "name": "stdout",
     "output_type": "stream",
     "text": [
      "M4 : \n",
      "[ 0  1  2  3  4  5  6  7  8  9 10 11 12 13 14 15]\n",
      "\n",
      "M4_1 : \n",
      "[[ 0  1  2  3]\n",
      " [ 4  5  6  7]\n",
      " [ 8  9 10 11]\n",
      " [12 13 14 15]]\n",
      "\n",
      "M4_2 : \n",
      "[ 0  3  6  9 12 15]\n",
      "\n"
     ]
    }
   ],
   "execution_count": 30
  },
  {
   "metadata": {},
   "cell_type": "markdown",
   "source": [
    "**문제 5: 통계 연산 (축 기준)**\n",
    "다음은 4일간 3개 상점의 일일 매출 데이터입니다.\n",
    "`sales = np.array([[50, 60, 55], [80, 95, 75], [40, 100, 90], [70, 85, 80]])`\n",
    "각 상점별(열 기준) 평균 매출과 각 날짜별(행 기준) 총매출을 각각 계산하세요.\n"
   ],
   "id": "616f4012868be937"
  },
  {
   "metadata": {
    "ExecuteTime": {
     "end_time": "2025-09-04T06:03:21.116712Z",
     "start_time": "2025-09-04T06:03:21.105492Z"
    }
   },
   "cell_type": "code",
   "source": [
    "sales = np.array([[50, 60, 55], [80, 95, 75], [40, 100, 90], [70, 85, 80]])\n",
    "print(f\"sales : \\n{sales}\\n\")\n",
    "M5 = np.mean(sales, axis=0)\n",
    "#  axis=0은 위에서 아래'로 연산 (각 열의 요소들)\n",
    "print(f\"각 상점별 평균매출, M5 : \\n{M5}\\n\")\n",
    "M5_1 = np.sum(sales, axis=1)\n",
    "# axis=1은 '왼쪽에서 오른쪽'으로 연산 (각 행의 요소들)\n",
    "print(f\"각 날짜별 총매출, M5_1 : \\n{M5_1}\")"
   ],
   "id": "a66786d3f6f89220",
   "outputs": [
    {
     "name": "stdout",
     "output_type": "stream",
     "text": [
      "sales : \n",
      "[[ 50  60  55]\n",
      " [ 80  95  75]\n",
      " [ 40 100  90]\n",
      " [ 70  85  80]]\n",
      "\n",
      "각 상점별 평균매출, M5 : \n",
      "[60. 85. 75.]\n",
      "\n",
      "각 날짜별 총매출, M5_1 : \n",
      "[165 250 230 235]\n"
     ]
    }
   ],
   "execution_count": 35
  },
  {
   "metadata": {},
   "cell_type": "markdown",
   "source": [
    "**문제 6: `np.where` 활용**\n",
    "1부터 10까지의 숫자를 가진 배열에서, 5보다 큰 숫자는 제곱하고, 5보다 작거나 같은 숫자는 0으로 바꾸는 새로운 배열을 생성하세요.\n"
   ],
   "id": "ab57dbc7df04f5b5"
  },
  {
   "metadata": {
    "ExecuteTime": {
     "end_time": "2025-09-04T06:08:52.705368Z",
     "start_time": "2025-09-04T06:08:52.693977Z"
    }
   },
   "cell_type": "code",
   "source": [
    "M6 = np.arange(1,11)\n",
    "print(f\"M6 : \\n{M6}\\n\")\n",
    "M6_1 = []\n",
    "M6_1 = np.where(M6 > 5, M6**2, 0)\n",
    "print(f\"M6_1 : \\n{M6_1}\")\n"
   ],
   "id": "64f26a161154a48",
   "outputs": [
    {
     "name": "stdout",
     "output_type": "stream",
     "text": [
      "M6 : \n",
      "[ 1  2  3  4  5  6  7  8  9 10]\n",
      "\n",
      "M6_1 : \n",
      "[  0   0   0   0   0  36  49  64  81 100]\n"
     ]
    }
   ],
   "execution_count": 42
  },
  {
   "metadata": {},
   "cell_type": "markdown",
   "source": [
    "**문제 7: `argmax` 활용**\n",
    "어떤 선수의 주간 득점 기록이 `scores = np.array([12, 25, 8, 31, 19, 22, 15])`와 같습니다. 이 선수가 가장 높은 득점을 기록한 것은 몇 번째 주(week)인지 찾아내세요. (인덱스는 0부터 시작)\n"
   ],
   "id": "c080605ab285d205"
  },
  {
   "metadata": {
    "ExecuteTime": {
     "end_time": "2025-09-04T06:10:09.076711Z",
     "start_time": "2025-09-04T06:10:09.067632Z"
    }
   },
   "cell_type": "code",
   "source": [
    "scores = np.array([12, 25, 8, 31, 19, 22, 15])\n",
    "print(f\"scores : \\n{scores}\\n\")\n",
    "M7 = np.argmax(scores)\n",
    "print(f\"M7 : \\n{M7}\")"
   ],
   "id": "1681bd5280919d1a",
   "outputs": [
    {
     "name": "stdout",
     "output_type": "stream",
     "text": [
      "scores : \n",
      "[12 25  8 31 19 22 15]\n",
      "\n",
      "M7 : \n",
      "3\n"
     ]
    }
   ],
   "execution_count": 45
  },
  {
   "metadata": {},
   "cell_type": "markdown",
   "source": [
    "**문제 8: 배열 합치기**\n",
    "`a = np.array([[1, 2], [3, 4]])`와 `b = np.array([[5, 6]])`가 있습니다. `b`를 `a`의 아래에 수직으로 붙여서 3x2 배열을 만드세요.\n"
   ],
   "id": "b3dacf1e30993336"
  },
  {
   "metadata": {
    "ExecuteTime": {
     "end_time": "2025-09-04T06:13:15.898040Z",
     "start_time": "2025-09-04T06:13:15.890675Z"
    }
   },
   "cell_type": "code",
   "source": [
    "a = np.array([[1, 2], [3, 4]])\n",
    "b = np.array([[5, 6]])\n",
    "print(f\"a : \\n{a}\\n\")\n",
    "print(f\"b : \\n{b}\\n\")\n",
    "c = np.vstack([b, a])\n",
    "print(f\"c : \\n{c}\")"
   ],
   "id": "7e3e72b316a6c7f1",
   "outputs": [
    {
     "name": "stdout",
     "output_type": "stream",
     "text": [
      "a : \n",
      "[[1 2]\n",
      " [3 4]]\n",
      "\n",
      "b : \n",
      "[[5 6]]\n",
      "\n",
      "c : \n",
      "[[5 6]\n",
      " [1 2]\n",
      " [3 4]]\n"
     ]
    }
   ],
   "execution_count": 54
  },
  {
   "metadata": {},
   "cell_type": "markdown",
   "source": [
    "**문제 9: 결측치(NaN) 처리**\n",
    "다음 배열에서 결측치(`np.nan`)의 개수를 세고, 결측치를 해당 배열의 전체 평균값(결측치를 제외한)으로 대체하세요.\n",
    "`data = np.array([10., 20., np.nan, 30., 40., np.nan, 50.])`"
   ],
   "id": "bc13d65671130b5a"
  },
  {
   "metadata": {
    "ExecuteTime": {
     "end_time": "2025-09-04T06:17:38.417506Z",
     "start_time": "2025-09-04T06:17:38.405695Z"
    }
   },
   "cell_type": "code",
   "source": [
    "data = np.array([10., 20., np.nan, 30., 40., np.nan, 50.])\n",
    "print(f\"data : \\n{data}\\n\")\n",
    "# 일반적인 sum 함수는 nan을 반환\n",
    "print(f\"일반 sum() 결과: {np.sum(data)}\\n\")\n",
    "\n",
    "# nan을 제외하고 합계 계산\n",
    "print(f\"nansum() 결과: {np.nansum(data)}\\n\")\n",
    "\n",
    "# nan이 어디에 있는지 확인\n",
    "print(f\"결측치 위치 확인 (isnan):\\n{np.isnan(data)}\")"
   ],
   "id": "8c77098df14d4e9e",
   "outputs": [
    {
     "name": "stdout",
     "output_type": "stream",
     "text": [
      "data : \n",
      "[10. 20. nan 30. 40. nan 50.]\n",
      "\n",
      "일반 sum() 결과: nan\n",
      "\n",
      "nansum() 결과: 150.0\n",
      "\n",
      "결측치 위치 확인 (isnan):\n",
      "[False False  True False False  True False]\n"
     ]
    }
   ],
   "execution_count": 63
  },
  {
   "metadata": {},
   "cell_type": "markdown",
   "source": [
    "**문제 10: 종합 응용**\n",
    "10x2 크기의 배열에 0부터 99까지의 정수를 무작위로 채우세요. 이 배열은 (x, y) 좌표 목록으로 간주합니다. 이 중에서 x값(0번 열)이 y값(1번 열)보다 큰 모든 좌표(행)를 찾아 출력하세요."
   ],
   "id": "26ec64a54564b7f7"
  },
  {
   "metadata": {
    "ExecuteTime": {
     "end_time": "2025-09-04T06:36:45.951413Z",
     "start_time": "2025-09-04T06:36:45.938992Z"
    }
   },
   "cell_type": "code",
   "source": [
    "M10 = np.random.randint(low=0, high=100, size=(10,2))\n",
    "print(f\"M10 : \\n{M10}\\n\")\n",
    "M10_1 = M10[M10[:, 0] > M10[:, 1]]\n",
    "print(f\"M10_1 : \\n{M10_1}\\n\")\n"
   ],
   "id": "7a632d1068cec707",
   "outputs": [
    {
     "name": "stdout",
     "output_type": "stream",
     "text": [
      "M10 : \n",
      "[[34  4]\n",
      " [75 26]\n",
      " [81  0]\n",
      " [73 18]\n",
      " [89  0]\n",
      " [52 37]\n",
      " [60  7]\n",
      " [64 98]\n",
      " [53 85]\n",
      " [35 48]]\n",
      "\n",
      "M10_1 : \n",
      "[[34  4]\n",
      " [75 26]\n",
      " [81  0]\n",
      " [73 18]\n",
      " [89  0]\n",
      " [52 37]\n",
      " [60  7]]\n",
      "\n"
     ]
    }
   ],
   "execution_count": 78
  }
 ],
 "metadata": {
  "kernelspec": {
   "display_name": "Python 3",
   "language": "python",
   "name": "python3"
  },
  "language_info": {
   "codemirror_mode": {
    "name": "ipython",
    "version": 2
   },
   "file_extension": ".py",
   "mimetype": "text/x-python",
   "name": "python",
   "nbconvert_exporter": "python",
   "pygments_lexer": "ipython2",
   "version": "2.7.6"
  }
 },
 "nbformat": 4,
 "nbformat_minor": 5
}
