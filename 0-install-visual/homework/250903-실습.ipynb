{
 "cells": [
  {
   "metadata": {},
   "cell_type": "markdown",
   "source": [
    "기본 실습 1: 클래스와 객체 생성\n",
    "\n",
    "문제:\n",
    "클래스를 정의하고, 이를 사용하여 객체를 생성한 후, 해당 객체의 속성을 출력하세요.\n",
    "\n",
    "클래스 : Person,\n",
    "속성: name, age\n",
    "메서드 : introduce\n",
    "안녕하세요, 저는 철수이고 25살입니다."
   ],
   "id": "ca463e62694948ca"
  },
  {
   "metadata": {},
   "cell_type": "code",
   "outputs": [],
   "execution_count": null,
   "source": [
    "class Person\n",
    "    def __init__(self, name, age):\n",
    "        self.name = name\n",
    "        self.age = age\n",
    "\n"
   ],
   "id": "2c3aa994fc999e8"
  },
  {
   "metadata": {},
   "cell_type": "markdown",
   "source": [
    "기본 실습 2: 상속과 메서드 오버라이딩\n",
    "문제:\n",
    "부모 클래스 Animal 를 상속받아 새로운 클래스 Dog , Cat를 만들고,\n",
    "메서드 sound 를 오버라이딩하여 다르게 동작하도록 구현하세요."
   ],
   "id": "9e8f5cb9aee0805e"
  },
  {
   "metadata": {},
   "cell_type": "code",
   "outputs": [],
   "execution_count": null,
   "source": "",
   "id": "63fd58bf1e3aff2f"
  },
  {
   "metadata": {},
   "cell_type": "markdown",
   "source": [
    "기본 실습 3: 캡슐화 (가시성 제어)\n",
    "문제:\n",
    "클래스 BankAccount 에서 속성 owner, balance을 (__balance) private으로 선언하고,\n",
    "이를 접근하는 getter(get_balance) 및 setter(deposi\n",
    "t) 메서드를 구현하세요."
   ],
   "id": "3fd6abd9887da1e3"
  },
  {
   "metadata": {},
   "cell_type": "code",
   "outputs": [],
   "execution_count": null,
   "source": "",
   "id": "8d19f8fe86b00841"
  },
  {
   "metadata": {},
   "cell_type": "markdown",
   "source": [
    "응용 실습 1: 직원 관리 시스템 (클래스 및 인스턴스 활용)\n",
    "문제:\n",
    "Employee 클래스를 만들고,\n",
    "직원 정보( name, position, salary)를 저장 및 출력(get_info)하는 프로그램을 작성하세요"
   ],
   "id": "bd5d5691714605ab"
  },
  {
   "metadata": {},
   "cell_type": "code",
   "outputs": [],
   "execution_count": null,
   "source": "",
   "id": "1c1cc3f325c0b7b1"
  },
  {
   "metadata": {},
   "cell_type": "markdown",
   "source": [
    "응용 실습 2: 도서 관리 시스템 (상속 및 다형성 활용)\n",
    "문제:\n",
    "도서 Book , 전자책 EBook, 종이책 PaperBook 클래스를 구현하고,\n",
    "display_info() 메서드를 다형성을 적용하여 다르게 동작하도록 만드세요."
   ],
   "id": "fdab68d73845e05b"
  },
  {
   "metadata": {},
   "cell_type": "code",
   "outputs": [],
   "execution_count": null,
   "source": "",
   "id": "c4bb070629e138ef"
  },
  {
   "metadata": {},
   "cell_type": "markdown",
   "source": [
    "응용 실습 3: 자동차 관리 시스템 (캡슐화 및 메서드 활용)\n",
    "문제:\n",
    "자동차 Car 의 연료 잔량을 관리하는 시스템을 만들고,\n",
    "캡슐화를 적용하여 연료의 상태를 private으로 보호하세요.\n",
    "속성: model, fuel\n",
    "게터: get_fuel\n",
    "메서드 : drive(self, distance)\n",
    "refuel(self, amount): # 연료 추가"
   ],
   "id": "9eb16257874ceb2d"
  }
 ],
 "metadata": {
  "kernelspec": {
   "display_name": "Python 3",
   "language": "python",
   "name": "python3"
  },
  "language_info": {
   "codemirror_mode": {
    "name": "ipython",
    "version": 2
   },
   "file_extension": ".py",
   "mimetype": "text/x-python",
   "name": "python",
   "nbconvert_exporter": "python",
   "pygments_lexer": "ipython2",
   "version": "2.7.6"
  }
 },
 "nbformat": 4,
 "nbformat_minor": 5
}
